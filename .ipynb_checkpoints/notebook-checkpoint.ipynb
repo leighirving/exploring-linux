{
 "cells": [
  {
   "cell_type": "markdown",
   "metadata": {
    "dc": {
     "key": "4"
    },
    "deletable": false,
    "editable": false,
    "run_control": {
     "frozen": true
    },
    "tags": [
     "context"
    ]
   },
   "source": [
    "## 1. Introduction\n",
    "<p>Version control repositories like CVS, Subversion or Git can be a real gold mine for software developers. They contain every change to the source code including the date (the \"when\"), the responsible developer (the \"who\"), as well as little message that describes the intention (the \"what\") of a change.</p>\n",
    "<p><a href=\"https://commons.wikimedia.org/wiki/File:Tux.svg\">\n",
    "<img style=\"float: right;margin:5px 20px 5px 1px\" width=\"150px\" src=\"https://s3.amazonaws.com/assets.datacamp.com/production/project_111/img/tux.png\" alt=\"Tux - the Linux mascot\">\n",
    "</a></p>\n",
    "<p>In this notebook, we will analyze the evolution of a very famous open-source project &ndash; the Linux kernel. The Linux kernel is the heart of some Linux distributions like Debian, Ubuntu or CentOS. </p>\n",
    "<p>We get some first insights into the work of the development efforts by </p>\n",
    "<ul>\n",
    "<li>identifying the TOP 10 contributors and</li>\n",
    "<li>visualizing the commits over the years.</li>\n",
    "</ul>\n",
    "<p>Linus Torvalds, the (spoiler alert!) main contributor to the Linux kernel (and also the creator of Git), created a <a href=\"https://github.com/torvalds/linux/\">mirror of the Linux repository on GitHub</a>. It contains the complete history of kernel development for the last 13 years.</p>\n",
    "<p>For our analysis, we will use a Git log file with the following content:</p>"
   ]
  },
  {
   "cell_type": "code",
   "execution_count": 86,
   "metadata": {
    "dc": {
     "key": "4"
    },
    "tags": [
     "sample_code"
    ]
   },
   "outputs": [
    {
     "name": "stdout",
     "output_type": "stream",
     "text": [
      "1502382966#Linus Torvalds\n",
      "1501368308#Max Gurtovoy\n",
      "1501625560#James Smart\n",
      "1501625559#James Smart\n",
      "1500568442#Martin Wilck\n",
      "1502273719#Xin Long\n",
      "1502278684#Nikolay Borisov\n",
      "1502238384#Girish Moodalbail\n",
      "1502228709#Florian Fainelli\n",
      "1502223836#Jon Paul Maloy\n"
     ]
    }
   ],
   "source": [
    "# Printing the content of git_log_excerpt.csv\n",
    "with open('datasets/git_log_excerpt.csv') as f:\n",
    "    print(f.read())"
   ]
  },
  {
   "cell_type": "markdown",
   "metadata": {
    "dc": {
     "key": "11"
    },
    "deletable": false,
    "editable": false,
    "run_control": {
     "frozen": true
    },
    "tags": [
     "context"
    ]
   },
   "source": [
    "## 2. Reading in the dataset\n",
    "<p>The dataset was created by using the command <code>git log --encoding=latin-1 --pretty=\"%at#%aN\"</code>. The <code>latin-1</code> encoded text output was saved in a header-less csv file. In this file, each row is a commit entry with the following information:</p>\n",
    "<ul>\n",
    "<li><code>timestamp</code>: the time of the commit as a UNIX timestamp in seconds since 1970-01-01 00:00:00 (Git log placeholder \"<code>%at</code>\")</li>\n",
    "<li><code>author</code>: the name of the author that performed the commit (Git log placeholder \"<code>%aN</code>\")</li>\n",
    "</ul>\n",
    "<p>The columns are separated by the number sign <code>#</code>. The complete dataset is in the <code>datasets/</code> directory. It is a <code>gz</code>-compressed csv file named <code>git_log.gz</code>.</p>"
   ]
  },
  {
   "cell_type": "code",
   "execution_count": 88,
   "metadata": {
    "dc": {
     "key": "11"
    },
    "tags": [
     "sample_code"
    ]
   },
   "outputs": [
    {
     "name": "stdout",
     "output_type": "stream",
     "text": [
      "    timestamp          author\n",
      "0  1502826583  Linus Torvalds\n",
      "1  1501749089   Adrian Hunter\n",
      "2  1501749088   Adrian Hunter\n",
      "3  1501882480       Kees Cook\n",
      "4  1497271395       Rob Clark\n"
     ]
    }
   ],
   "source": [
    "# Loading in the pandas module\n",
    "import pandas as pd\n",
    "\n",
    "# Reading in the log file\n",
    "git_log = pd.read_csv('datasets/git_log.gz', sep='#', encoding='latin-1',\n",
    "                      header=None, names=['timestamp','author'])\n",
    "\n",
    "# Printing out the first 5 rows\n",
    "print(git_log.head())"
   ]
  },
  {
   "cell_type": "markdown",
   "metadata": {
    "dc": {
     "key": "18"
    },
    "deletable": false,
    "editable": false,
    "run_control": {
     "frozen": true
    },
    "tags": [
     "context"
    ]
   },
   "source": [
    "## 3. Getting an overview\n",
    "<p>The dataset contains the information about every single code contribution (a \"commit\") to the Linux kernel over the last 13 years. We'll first take a look at the number of authors and their commits to the repository.</p>"
   ]
  },
  {
   "cell_type": "code",
   "execution_count": 90,
   "metadata": {
    "dc": {
     "key": "18"
    },
    "tags": [
     "sample_code"
    ]
   },
   "outputs": [
    {
     "name": "stdout",
     "output_type": "stream",
     "text": [
      "17385 authors committed 699071 code changes.\n"
     ]
    }
   ],
   "source": [
    "# calculating number of commits\n",
    "number_of_commits = len(git_log.index)\n",
    "\n",
    "# calculating number of authors\n",
    "number_of_authors = git_log.author.nunique()\n",
    "\n",
    "# printing out the results\n",
    "print(\"%s authors committed %s code changes.\" % (number_of_authors, number_of_commits))"
   ]
  },
  {
   "cell_type": "markdown",
   "metadata": {
    "dc": {
     "key": "25"
    },
    "deletable": false,
    "editable": false,
    "run_control": {
     "frozen": true
    },
    "tags": [
     "context"
    ]
   },
   "source": [
    "## 4. Finding the TOP 10 contributors\n",
    "<p>There are some very important people that changed the Linux kernel very often. To see if there are any bottlenecks, we take a look at the TOP 10 authors with the most commits.</p>"
   ]
  },
  {
   "cell_type": "code",
   "execution_count": 92,
   "metadata": {
    "dc": {
     "key": "25"
    },
    "tags": [
     "sample_code"
    ]
   },
   "outputs": [
    {
     "data": {
      "text/plain": [
       "Linus Torvalds           23361\n",
       "David S. Miller           9106\n",
       "Mark Brown                6802\n",
       "Takashi Iwai              6209\n",
       "Al Viro                   6006\n",
       "H Hartley Sweeten         5938\n",
       "Ingo Molnar               5344\n",
       "Mauro Carvalho Chehab     5204\n",
       "Arnd Bergmann             4890\n",
       "Greg Kroah-Hartman        4580\n",
       "Name: author, dtype: int64"
      ]
     },
     "execution_count": 92,
     "metadata": {},
     "output_type": "execute_result"
    }
   ],
   "source": [
    "# Identifying the top 10 authors\n",
    "top_10_authors = git_log.author.value_counts().nlargest(10)\n",
    "\n",
    "# Listing contents of 'top_10_authors'\n",
    "top_10_authors"
   ]
  },
  {
   "cell_type": "markdown",
   "metadata": {
    "dc": {
     "key": "32"
    },
    "deletable": false,
    "editable": false,
    "run_control": {
     "frozen": true
    },
    "tags": [
     "context"
    ]
   },
   "source": [
    "## 5. Wrangling the data\n",
    "<p>For our analysis, we want to visualize the contributions over time. For this, we use the information in the <code>timestamp</code> column to create a time series-based column.</p>"
   ]
  },
  {
   "cell_type": "code",
   "execution_count": 94,
   "metadata": {
    "dc": {
     "key": "32"
    },
    "tags": [
     "sample_code"
    ]
   },
   "outputs": [
    {
     "name": "stdout",
     "output_type": "stream",
     "text": [
      "count                  699071\n",
      "unique                 668448\n",
      "top       2008-09-04 05:30:19\n",
      "freq                       99\n",
      "first     1970-01-01 00:00:01\n",
      "last      2037-04-25 08:08:26\n",
      "Name: timestamp, dtype: object\n"
     ]
    }
   ],
   "source": [
    "# converting the timestamp column\n",
    "git_log.timestamp = pd.to_datetime(git_log.timestamp, unit='s')\n",
    "\n",
    "# summarizing the converted timestamp column\n",
    "print(git_log.timestamp.describe())"
   ]
  },
  {
   "cell_type": "markdown",
   "metadata": {
    "dc": {
     "key": "39"
    },
    "deletable": false,
    "editable": false,
    "run_control": {
     "frozen": true
    },
    "tags": [
     "context"
    ]
   },
   "source": [
    "## 6. Treating wrong timestamps\n",
    "<p>As we can see from the results above, some contributors had their operating system's time incorrectly set when they committed to the repository. We'll clean up the <code>timestamp</code> column by dropping the rows with the incorrect timestamps.</p>"
   ]
  },
  {
   "cell_type": "code",
   "execution_count": 96,
   "metadata": {
    "dc": {
     "key": "39"
    },
    "tags": [
     "sample_code"
    ]
   },
   "outputs": [
    {
     "data": {
      "text/plain": [
       "count                  698569\n",
       "unique                 667977\n",
       "top       2008-09-04 05:30:19\n",
       "freq                       99\n",
       "first     2005-04-16 22:20:36\n",
       "last      2017-10-03 12:57:00\n",
       "Name: timestamp, dtype: object"
      ]
     },
     "execution_count": 96,
     "metadata": {},
     "output_type": "execute_result"
    }
   ],
   "source": [
    "# determining the first real commit timestamp\n",
    "first_commit_timestamp = pd.to_datetime('2005-04-16 22:20:36')\n",
    "\n",
    "# determining the last sensible commit timestamp\n",
    "last_commit_timestamp = pd.to_datetime('2017-10-03 12:57:00')\n",
    "\n",
    "# filtering out wrong timestamps\n",
    "corrected_log = git_log[(git_log.timestamp >= first_commit_timestamp) & \n",
    "                        (git_log.timestamp <= last_commit_timestamp)]\n",
    "\n",
    "# summarizing the corrected timestamp column\n",
    "corrected_log['timestamp'].describe()"
   ]
  },
  {
   "cell_type": "markdown",
   "metadata": {
    "dc": {
     "key": "46"
    },
    "deletable": false,
    "editable": false,
    "run_control": {
     "frozen": true
    },
    "tags": [
     "context"
    ]
   },
   "source": [
    "## 7. Grouping commits per year\n",
    "<p>To find out how the development activity has increased over time, we'll group the commits by year and count them up.</p>"
   ]
  },
  {
   "cell_type": "code",
   "execution_count": 112,
   "metadata": {
    "dc": {
     "key": "46"
    },
    "tags": [
     "sample_code"
    ]
   },
   "outputs": [
    {
     "name": "stdout",
     "output_type": "stream",
     "text": [
      "timestamp\n",
      "2005-01-01    16229\n",
      "2006-01-01    29255\n",
      "2007-01-01    33759\n",
      "2008-01-01    48847\n",
      "2009-01-01    52572\n",
      "Freq: AS-JAN, Name: author, dtype: int64\n"
     ]
    }
   ],
   "source": [
    "# Counting the no. commits per year\n",
    "commits_per_year = corrected_log.resample('AS',on='timestamp')['author'].agg('count')\n",
    "# Listing the first rows\n",
    "print(commits_per_year.head())"
   ]
  },
  {
   "cell_type": "markdown",
   "metadata": {
    "dc": {
     "key": "53"
    },
    "deletable": false,
    "editable": false,
    "run_control": {
     "frozen": true
    },
    "tags": [
     "context"
    ]
   },
   "source": [
    "## 8. Visualizing the history of Linux\n",
    "<p>Finally, we'll make a plot out of these counts to better see how the development effort on Linux has increased over the the last few years. </p>"
   ]
  },
  {
   "cell_type": "code",
   "execution_count": 100,
   "metadata": {
    "dc": {
     "key": "53"
    },
    "tags": [
     "sample_code"
    ]
   },
   "outputs": [
    {
     "data": {
      "text/plain": [
       "<matplotlib.axes._subplots.AxesSubplot at 0x7f4b7283d518>"
      ]
     },
     "execution_count": 100,
     "metadata": {},
     "output_type": "execute_result"
    },
    {
     "data": {
      "image/png": "[encoded data removed]",
      "text/plain": [
       "<matplotlib.figure.Figure at 0x7f4b6ff97358>"
      ]
     },
     "metadata": {},
     "output_type": "display_data"
    }
   ],
   "source": [
    "# Setting up plotting in Jupyter notebooks\n",
    "%matplotlib inline\n",
    "\n",
    "# plot the data\n",
    "commits_per_year.plot(kind='bar',title='Linux Commits by Year',legend=False)"
   ]
  },
  {
   "cell_type": "markdown",
   "metadata": {
    "dc": {
     "key": "60"
    },
    "deletable": false,
    "editable": false,
    "run_control": {
     "frozen": true
    },
    "tags": [
     "context"
    ]
   },
   "source": [
    "## 9.  Conclusion\n",
    "<p>Thanks to the solid foundation and caretaking of Linux Torvalds, many other developers are now able to contribute to the Linux kernel as well. There is no decrease of development activity at sight!</p>"
   ]
  },
  {
   "cell_type": "code",
   "execution_count": 1,
   "metadata": {
    "dc": {
     "key": "60"
    },
    "tags": [
     "sample_code"
    ]
   },
   "outputs": [
    {
     "name": "stdout",
     "output_type": "stream",
     "text": [
      "2016\n"
     ]
    }
   ],
   "source": [
    "# calculating or setting the year with the most commits to Linux\n",
    "year_with_most_commits = 2016\n",
    "print(year_with_most_commits)"
   ]
  },
  {
   "cell_type": "code",
   "execution_count": null,
   "metadata": {},
   "outputs": [],
   "source": []
  }
 ],
 "metadata": {
  "kernelspec": {
   "display_name": "Python 3",
   "language": "python",
   "name": "python3"
  },
  "language_info": {
   "codemirror_mode": {
    "name": "ipython",
    "version": 3
   },
   "file_extension": ".py",
   "mimetype": "text/x-python",
   "name": "python",
   "nbconvert_exporter": "python",
   "pygments_lexer": "ipython3",
   "version": "3.6.4"
  }
 },
 "nbformat": 4,
 "nbformat_minor": 2
}
